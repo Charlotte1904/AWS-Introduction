{
 "cells": [
  {
   "cell_type": "code",
   "execution_count": 1,
   "metadata": {
    "collapsed": false,
    "deletable": true,
    "editable": true
   },
   "outputs": [],
   "source": [
    "from boto.s3.connection import S3Connection\n",
    "from boto.s3.key import Key\n",
    "from functools import reduce\n",
    "from collections import Counter\n",
    "import boto3\n",
    "import ssl\n",
    "import json\n",
    "from ipyparallel import Client\n",
    "import pandas as pd"
   ]
  },
  {
   "cell_type": "code",
   "execution_count": 2,
   "metadata": {
    "collapsed": true,
    "deletable": true,
    "editable": true
   },
   "outputs": [],
   "source": [
    "# Connect to Ipyrallel & S3\n",
    "rc = Client()\n",
    "conn = S3Connection()"
   ]
  },
  {
   "cell_type": "code",
   "execution_count": 3,
   "metadata": {
    "collapsed": true,
    "deletable": true,
    "editable": true
   },
   "outputs": [],
   "source": [
    "# Get Kinesis firehose - S3 bucket\n",
    "bucket = conn.get_bucket('chaufirehosebucket')\n",
    "keys = bucket.get_all_keys()"
   ]
  },
  {
   "cell_type": "code",
   "execution_count": 4,
   "metadata": {
    "collapsed": false,
    "deletable": true,
    "editable": true
   },
   "outputs": [
    {
     "data": {
      "text/plain": [
       "<AsyncResult: scatter>"
      ]
     },
     "execution_count": 4,
     "metadata": {},
     "output_type": "execute_result"
    }
   ],
   "source": [
    "dview = rc[:]\n",
    "dview.scatter('keys', keys)"
   ]
  },
  {
   "cell_type": "code",
   "execution_count": 5,
   "metadata": {
    "collapsed": false,
    "deletable": true,
    "editable": true
   },
   "outputs": [],
   "source": [
    "%%px\n",
    "\n",
    "import boto\n",
    "import json\n",
    "from collections import Counter\n",
    "from boto.s3.connection import S3Connection\n",
    "\n",
    "conn = S3Connection()\n",
    "bucket = conn.get_bucket('chaufirehosebucket')\n",
    "\n",
    "def count_hashtags(keys, bucket=bucket):\n",
    "    '''\n",
    "    input: list of boto s3 keys with text files containing tweets\n",
    "    \n",
    "    returns: hashtag counter\n",
    "    '''\n",
    "    \n",
    "    hashtag_list = []\n",
    "    \n",
    "    for key in keys:  \n",
    "        all_tweets= key.get_contents_as_string().split('\\n')\n",
    "        for tweet in all_tweets:\n",
    "            try:\n",
    "                # convert to json\n",
    "                tweet_json = json.loads(tweet.decode('UTF-8'))\n",
    "                \n",
    "                # skip if it's deleted\n",
    "                if 'delete' in tweet_json or 'entities' not in tweet_json:\n",
    "                    continue\n",
    "                \n",
    "                #if tweet contains hashtags\n",
    "                if len(tweet_json['entities']['hashtags']) != 0:    \n",
    "                    hashtag_list.append(tweet_json['entities']['hashtags'][0]['text'])\n",
    "            \n",
    "            # when error\n",
    "            except ValueError:\n",
    "                continue\n",
    "    \n",
    "    # convert list to counter\n",
    "    hashtag_count = Counter(hashtag_list)\n",
    "        \n",
    "    return hashtag_count\n",
    "\n",
    "# run hashtag counter on each engine\n",
    "hashtagcount = count_hashtags(keys, bucket=bucket)"
   ]
  },
  {
   "cell_type": "code",
   "execution_count": 6,
   "metadata": {
    "collapsed": true,
    "deletable": true,
    "editable": true
   },
   "outputs": [],
   "source": [
    "# gather from all 10 engines\n",
    "hash_counts = dview.gather('hashtagcount')"
   ]
  },
  {
   "cell_type": "code",
   "execution_count": 7,
   "metadata": {
    "collapsed": false,
    "deletable": true,
    "editable": true
   },
   "outputs": [
    {
     "data": {
      "text/html": [
       "<div>\n",
       "<table border=\"1\" class=\"dataframe\">\n",
       "  <thead>\n",
       "    <tr style=\"text-align: right;\">\n",
       "      <th></th>\n",
       "      <th>hashtag</th>\n",
       "      <th>count</th>\n",
       "    </tr>\n",
       "  </thead>\n",
       "  <tbody>\n",
       "    <tr>\n",
       "      <th>1</th>\n",
       "      <td>KCAPinoyStar</td>\n",
       "      <td>11410</td>\n",
       "    </tr>\n",
       "    <tr>\n",
       "      <th>2</th>\n",
       "      <td>توق_الاعصار_تويت_هوست</td>\n",
       "      <td>8715</td>\n",
       "    </tr>\n",
       "    <tr>\n",
       "      <th>3</th>\n",
       "      <td>KCAPersonalidadeBR</td>\n",
       "      <td>6971</td>\n",
       "    </tr>\n",
       "    <tr>\n",
       "      <th>4</th>\n",
       "      <td>モンスト</td>\n",
       "      <td>6260</td>\n",
       "    </tr>\n",
       "    <tr>\n",
       "      <th>5</th>\n",
       "      <td>KCAEstrellaLatina</td>\n",
       "      <td>5896</td>\n",
       "    </tr>\n",
       "    <tr>\n",
       "      <th>6</th>\n",
       "      <td>ALDUBxDTBYSinJie</td>\n",
       "      <td>5311</td>\n",
       "    </tr>\n",
       "    <tr>\n",
       "      <th>7</th>\n",
       "      <td>Lovatics</td>\n",
       "      <td>4179</td>\n",
       "    </tr>\n",
       "    <tr>\n",
       "      <th>8</th>\n",
       "      <td>izmirescort</td>\n",
       "      <td>3350</td>\n",
       "    </tr>\n",
       "    <tr>\n",
       "      <th>9</th>\n",
       "      <td>المباحث_وفولورز_الفلانتين</td>\n",
       "      <td>3293</td>\n",
       "    </tr>\n",
       "    <tr>\n",
       "      <th>10</th>\n",
       "      <td>sanremo2017</td>\n",
       "      <td>3218</td>\n",
       "    </tr>\n",
       "  </tbody>\n",
       "</table>\n",
       "</div>"
      ],
      "text/plain": [
       "                      hashtag  count\n",
       "1                KCAPinoyStar  11410\n",
       "2       توق_الاعصار_تويت_هوست   8715\n",
       "3          KCAPersonalidadeBR   6971\n",
       "4                        モンスト   6260\n",
       "5           KCAEstrellaLatina   5896\n",
       "6            ALDUBxDTBYSinJie   5311\n",
       "7                    Lovatics   4179\n",
       "8                 izmirescort   3350\n",
       "9   المباحث_وفولورز_الفلانتين   3293\n",
       "10                sanremo2017   3218"
      ]
     },
     "execution_count": 7,
     "metadata": {},
     "output_type": "execute_result"
    }
   ],
   "source": [
    "# add all the hashtag counts from each engine\n",
    "top_hashtags = reduce(lambda x, y: x+y, hash_counts)\n",
    "pd.DataFrame(top_hashtags.most_common()[0:10], columns=['hashtag', 'count'], index=range(1,11))"
   ]
  },
  {
   "cell_type": "code",
   "execution_count": null,
   "metadata": {
    "collapsed": true,
    "deletable": true,
    "editable": true
   },
   "outputs": [],
   "source": []
  }
 ],
 "metadata": {
  "kernelspec": {
   "display_name": "Python 2",
   "language": "python",
   "name": "python2"
  },
  "language_info": {
   "codemirror_mode": {
    "name": "ipython",
    "version": 2
   },
   "file_extension": ".py",
   "mimetype": "text/x-python",
   "name": "python",
   "nbconvert_exporter": "python",
   "pygments_lexer": "ipython2",
   "version": "2.7.12"
  }
 },
 "nbformat": 4,
 "nbformat_minor": 2
}
